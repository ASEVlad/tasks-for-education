{
 "cells": [
  {
   "cell_type": "code",
   "execution_count": null,
   "metadata": {},
   "outputs": [],
   "source": [
    "import tensorflow as tf"
   ]
  },
  {
   "cell_type": "code",
   "execution_count": null,
   "metadata": {},
   "outputs": [],
   "source": [
    "x = tf.constant([1,3,6])\n",
    "y=tf.constant([1,1,1])"
   ]
  },
  {
   "cell_type": "code",
   "execution_count": null,
   "metadata": {},
   "outputs": [],
   "source": [
    "op = tf.add(x,y)"
   ]
  },
  {
   "cell_type": "code",
   "execution_count": null,
   "metadata": {},
   "outputs": [],
   "source": [
    "my_graph = tf.Graph()\n",
    "with tf.Session(graph=my_graph) as sess:\n",
    "    x = tf.constant([1,3,6])\n",
    "    y=tf.constant([1,1,1])\n",
    "    op = tf.add(x,y)"
   ]
  },
  {
   "cell_type": "code",
   "execution_count": null,
   "metadata": {},
   "outputs": [],
   "source": [
    "my_graph = tf.Graph()\n",
    "with tf.Session(graph=my_graph) as sess:\n",
    "    x = tf.constant([1,3,6])\n",
    "    y=tf.constant([1,1,1])\n",
    "    \n",
    "    op = tf.add(x,y)\n",
    "    result = sess.run(fetch=op)\n",
    "    print(result)"
   ]
  },
  {
   "cell_type": "code",
   "execution_count": null,
   "metadata": {},
   "outputs": [],
   "source": [
    "n_hidden_1 = 10 #количество признаков первого слоя\n",
    "n_hidden_2 = 5 #количество признаков второго слоя\n",
    "n_input = total_words #слова в словаре\n",
    "c_classes = 3 #категории\n",
    "def multilayer_perceptron(input_tensor, weights, biases):\n",
    "    layer_1_multiplication = tf.matmul(input_tensor,weights['h1'])\n",
    "    layer_1_adition = tf.add(layer_2_multiplication, biases['b2'])\n",
    "    layer_1_activation = tftf.nn.relu(layer_1_addition)\n",
    "    \n",
    "    # Скрытый слой с RELU активацией\n",
    "    layer_w_miltiplication = tf.matmul(layer_1_activation, weights['h2'])\n",
    "    layer_2_addition = tf.add(layer_2_multiplication, biases['b2'])\n",
    "    layer_2_activation = tf.nn.relu(layer_2_addition)\n",
    "    \n",
    "    #Слой вывода с линейной активацией\n",
    "    out_layer_multiplication = tf.matmul(layer_2_activation, weights['out'])\n",
    "    out_layer_addition = out_layer_mulitplication + biases['out']\n",
    "    return out_layer_addition"
   ]
  },
  {
   "cell_type": "code",
   "execution_count": null,
   "metadata": {},
   "outputs": [],
   "source": [
    "weights = {\n",
    "    'h1': tf.Variable(tf.random_normal([n_input, n_hidden_1])),\n",
    "    'h1': tf.Variable(tf.random_normal([n_hidden_1, n_hidden_2])),\n",
    "    'out': tf.Variable(tf.random_normal([n_hidden_2, n_classes]))\n",
    "}\n",
    "biases = {\n",
    "    'b1': tf.Varibale(tf.random_normal([n_hidden_1])),\n",
    "    'b2': tf.Varibale(tf.random_normal([n_hidden_2])),\n",
    "    'out': tf.Varibale(tf.random_normal([n_classes]))\n",
    "}"
   ]
  },
  {
   "cell_type": "code",
   "execution_count": null,
   "metadata": {},
   "outputs": [],
   "source": [
    "input values: x\n",
    "weights: w\n",
    "bias: b\n",
    "output values: z\n",
    "    \n",
    "axpected values: expected"
   ]
  },
  {
   "cell_type": "code",
   "execution_count": null,
   "metadata": {},
   "outputs": [],
   "source": [
    "#конструирование модели\n",
    "prediction = multilayer_perceptron(input_tensor, weights, biases)\n",
    "\n",
    "# определение потерь\n",
    "entropy_loss = tf.nn.softmax_cross_entropy_with_logits(logits=prediction, labels=output_tensor)\n",
    "loss = tf.reduce_mean(entropy_loss)"
   ]
  },
  {
   "cell_type": "code",
   "execution_count": null,
   "metadata": {},
   "outputs": [],
   "source": [
    "learning_rate = 0.001\n",
    "\n",
    "# Конструирование модели\n",
    "prediction = multilayer_perceptron(input_tensor, weights, biases)\n",
    "\n",
    "# Определение потери\n",
    "entropy_loss = tf.nn.softmax_cross_entropy_with_logits(logits=prediction, labels=output_tensor)\n",
    "loss = tf.reduce_mean(entropy_loss)\n",
    "\n",
    "optimizer = tf.train.AdamOptimizer(learning_rate=learning_rate).minimize(loss)"
   ]
  },
  {
   "cell_type": "code",
   "execution_count": null,
   "metadata": {},
   "outputs": [],
   "source": [
    "import numpy as np    #numpy — это пакет для научных вычислений\n",
    "from collections import Counter\n",
    "\n",
    "vocab = Counter()\n",
    "\n",
    "text = \"Hi from Brazil\"\n",
    "\n",
    "#Получение всех слов\n",
    "for word in text.split(' '):\n",
    "    vocab[word]+=1\n",
    "        \n",
    "#Конвертация слов в индексы\n",
    "def get_word_2_index(vocab):\n",
    "    word2index = {}\n",
    "    for i,word in enumerate(vocab):\n",
    "        word2index[word] = i\n",
    "        \n",
    "    return word2index\n",
    "\n",
    "#Теперь у нас есть индекс\n",
    "word2index = get_word_2_index(vocab)\n",
    "\n",
    "total_words = len(vocab)\n",
    "\n",
    "#Создание массива NumPy (наша матрица)\n",
    "matrix = np.zeros((total_words),dtype=float)\n",
    "\n",
    "#Заполнение значений\n",
    "for word in text.split():\n",
    "    matrix[word2index[word]] += 1\n",
    "\n",
    "print(matrix)\n",
    "\n",
    ">>> [ 1.  1.  1.]"
   ]
  },
  {
   "cell_type": "code",
   "execution_count": null,
   "metadata": {},
   "outputs": [],
   "source": [
    "matrix = np.zeros((total_words),dtype=float)\n",
    "\n",
    "text = \"Hi\"\n",
    "\n",
    "for word in text.split():\n",
    "    matrix[word2index[word.lower()]] += 1\n",
    "\n",
    "print(matrix)\n",
    "\n",
    ">>> [ 1.  0.  0.]"
   ]
  },
  {
   "cell_type": "code",
   "execution_count": null,
   "metadata": {},
   "outputs": [],
   "source": [
    "y = np.zeros((3),dtype=float)\n",
    "\n",
    "if category == 0:\n",
    "    y[0] = 1.        # [ 1.  0.  0.]\n",
    "elif category == 1:\n",
    "    y[1] = 1.        # [ 0.  1.  0.]\n",
    "else:\n",
    "     y[2] = 1.       # [ 0.  0.  1.]"
   ]
  },
  {
   "cell_type": "code",
   "execution_count": null,
   "metadata": {},
   "outputs": [],
   "source": [
    "from sklearn.datasets import fetch_20newsgroups\n",
    "\n",
    "categories = [\"comp.graphics\",\"sci.space\",\"rec.sport.baseball\"]\n",
    "\n",
    "newsgroups_train = fetch_20newsgroups(subset='train', categories=categories)\n",
    "newsgroups_test = fetch_20newsgroups(subset='test', categories=categories)"
   ]
  },
  {
   "cell_type": "code",
   "execution_count": null,
   "metadata": {},
   "outputs": [],
   "source": [
    "tf.Session.run(fetches, feed_dict=None, options=None, run_metadata=None)"
   ]
  },
  {
   "cell_type": "code",
   "execution_count": null,
   "metadata": {},
   "outputs": [],
   "source": [
    "n_input = total_words # Слова в словаре\n",
    "n_classes = 3         # Категории\n",
    "\n",
    "input_tensor = tf.placeholder(tf.float32,[None, n_input],name=\"input\")\n",
    "output_tensor = tf.placeholder(tf.float32,[None, n_classes],name=\"output\")"
   ]
  },
  {
   "cell_type": "code",
   "execution_count": null,
   "metadata": {},
   "outputs": [],
   "source": [
    "training_epochs = 10\n",
    "# Запуск графа\n",
    "with tf.Session() as sess:\n",
    "    sess.run(init) #инициализация нормальным распределением\n",
    "\n",
    "    # Тренировочный цикл\n",
    "    for epoch in range(training_epochs):\n",
    "        avg_cost = 0.\n",
    "        total_batch = int(len(newsgroups_train.data)/batch_size)\n",
    "        # Цикл по всем блокам\n",
    "        for i in range(total_batch):\n",
    "            batch_x,batch_y = get_batch(newsgroups_train,i,batch_size)\n",
    "            # Запустим оптимизацию\n",
    "            c,_ = sess.run([loss,optimizer], feed_dict={input_tensor: batch_x, output_tensor:batch_y})"
   ]
  },
  {
   "cell_type": "code",
   "execution_count": null,
   "metadata": {},
   "outputs": [],
   "source": [
    "# Тестирование модели\n",
    "    index_prediction = tf.argmax(prediction, 1)\n",
    "    index_correct = tf.argmax(output_tensor, 1)\n",
    "    correct_prediction = tf.equal(index_prediction, index_correct)\n",
    "   \n",
    " # Вычисление точности\n",
    "    accuracy = tf.reduce_mean(tf.cast(correct_prediction, \"float\"))\n",
    "    total_test_data = len(newsgroups_test.target)\n",
    "    batch_x_test,batch_y_test = get_batch(newsgroups_test,0,total_test_data)\n",
    "    print(\"Accuracy:\", accuracy.eval({input_tensor: batch_x_test, output_tensor: batch_y_test}))"
   ]
  },
  {
   "cell_type": "code",
   "execution_count": null,
   "metadata": {},
   "outputs": [],
   "source": []
  },
  {
   "cell_type": "code",
   "execution_count": null,
   "metadata": {},
   "outputs": [],
   "source": []
  }
 ],
 "metadata": {
  "kernelspec": {
   "display_name": "Python 3",
   "language": "python",
   "name": "python3"
  },
  "language_info": {
   "codemirror_mode": {
    "name": "ipython",
    "version": 3
   },
   "file_extension": ".py",
   "mimetype": "text/x-python",
   "name": "python",
   "nbconvert_exporter": "python",
   "pygments_lexer": "ipython3",
   "version": "3.7.3"
  }
 },
 "nbformat": 4,
 "nbformat_minor": 2
}
